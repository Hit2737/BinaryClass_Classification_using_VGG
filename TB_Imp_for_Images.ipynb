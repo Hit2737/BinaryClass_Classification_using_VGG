{
 "cells": [
  {
   "cell_type": "markdown",
   "metadata": {},
   "source": [
    "#\n",
    "<span style=\"font-family: Times New Roman; font-size: 20px;\">\n",
    "<h1 align='center'> \n",
    "Tensorboard Implementation (for Images)\n",
    "</h1>"
   ]
  },
  {
   "cell_type": "markdown",
   "metadata": {},
   "source": [
    "##\n",
    "<span style=\"font-family: Times New Roman; font-size: 20px;\">\n",
    "<h2> \n",
    "Imports\n",
    "</h2>"
   ]
  },
  {
   "cell_type": "code",
   "execution_count": 19,
   "metadata": {},
   "outputs": [],
   "source": [
    "import tensorflow as tf\n",
    "import matplotlib.pyplot as plt\n",
    "import io,os,shutil\n",
    "import numpy as np\n",
    "import torch\n",
    "from torch import nn\n",
    "import torchvision\n",
    "from sklearn.metrics import accuracy_score, confusion_matrix\n",
    "from torchvision.transforms import transforms\n",
    "import warnings\n",
    "warnings.filterwarnings(\"ignore\")\n",
    "device = torch.device(\"cuda\" if torch.cuda.is_available() else \"cpu\")"
   ]
  },
  {
   "cell_type": "markdown",
   "metadata": {},
   "source": [
    "##\n",
    "<span style=\"font-family: Times New Roman; font-size: 20px;\">\n",
    "<h2> \n",
    "Model Architecture\n",
    "</h2>"
   ]
  },
  {
   "cell_type": "markdown",
   "metadata": {},
   "source": [
    "###\n",
    "<span style=\"font-family: Times New Roman; font-size: 20px;\">\n",
    "<h3> \n",
    "VGG-Model (1 Block)\n",
    "</h3>"
   ]
  },
  {
   "cell_type": "code",
   "execution_count": 20,
   "metadata": {},
   "outputs": [],
   "source": [
    "class VGG1Block(nn.Module):\n",
    "  def __init__(self):\n",
    "    super(VGG1Block, self).__init__()\n",
    "    self.features = nn.Sequential(\n",
    "      nn.Conv2d(3, 32, 3, padding=1),\n",
    "      nn.ReLU(inplace=True),\n",
    "      nn.MaxPool2d(2, 2)\n",
    "    )\n",
    "    self.classifier = nn.Sequential(\n",
    "      nn.Linear(32 * 128 * 128, 256),\n",
    "      nn.ReLU(inplace=True),\n",
    "      nn.Linear(256, 16),\n",
    "      nn.ReLU(inplace=True),\n",
    "      nn.Linear(16, 1)\n",
    "    )\n",
    "\n",
    "  def forward(self, x):\n",
    "    x = self.features(x)\n",
    "    x = x.view(x.size(0), -1)\n",
    "    x = self.classifier(x)\n",
    "    return x"
   ]
  },
  {
   "cell_type": "markdown",
   "metadata": {},
   "source": [
    "###\n",
    "<span style=\"font-family: Times New Roman; font-size: 20px;\">\n",
    "<h3> \n",
    "VGG-Model (3 Blocks)\n",
    "</h3>"
   ]
  },
  {
   "cell_type": "code",
   "execution_count": 21,
   "metadata": {},
   "outputs": [],
   "source": [
    "class VGG3Block(nn.Module):\n",
    "    def __init__(self, *args, **kwargs):\n",
    "        super(VGG3Block, self).__init__()\n",
    "        self.features = nn.Sequential(\n",
    "            nn.Conv2d(3, 32, 3, padding=1),\n",
    "            nn.ReLU(inplace=True),\n",
    "            nn.MaxPool2d(2, 2),\n",
    "            nn.Conv2d(32, 64, 3, padding=1),\n",
    "            nn.ReLU(inplace=True),\n",
    "            nn.MaxPool2d(2, 2),\n",
    "            nn.Conv2d(64, 128, 3, padding=1),\n",
    "            nn.ReLU(inplace=True),\n",
    "            nn.MaxPool2d(2, 2)\n",
    "        )\n",
    "        self.classifier = nn.Sequential(\n",
    "            nn.Linear(128 * 32 * 32, 256),\n",
    "            nn.ReLU(inplace=True),\n",
    "            nn.Linear(256, 16),\n",
    "            nn.ReLU(inplace=True),\n",
    "            nn.Linear(16, 1)\n",
    "        )\n",
    "    \n",
    "    def forward(self, x):\n",
    "        x = self.features(x)\n",
    "        x = x.view(x.size(0), -1)\n",
    "        x = self.classifier(x)\n",
    "        return x"
   ]
  },
  {
   "cell_type": "markdown",
   "metadata": {},
   "source": [
    "###\n",
    "<span style=\"font-family: Times New Roman; font-size: 20px;\">\n",
    "<h3> \n",
    "VGG16-Model (Transfer Learning) (only MLP layers)\n",
    "</h3>"
   ]
  },
  {
   "cell_type": "code",
   "execution_count": 22,
   "metadata": {},
   "outputs": [],
   "source": [
    "from torchvision.models import vgg16\n",
    "\n",
    "class VGG16_tl(nn.Module):\n",
    "    def __init__(self):\n",
    "        super(VGG16_tl, self).__init__()\n",
    "        self.base_model = vgg16(pretrained=True)\n",
    "        for param in self.base_model.parameters():\n",
    "            param.requires_grad = False\n",
    "        self.classifier = nn.Sequential(\n",
    "            nn.Linear(1000, 256),\n",
    "            nn.ReLU(inplace=True),\n",
    "            nn.Linear(256, 16),\n",
    "            nn.ReLU(inplace=True),\n",
    "            nn.Linear(16, 1)\n",
    "        )\n",
    "\n",
    "    def forward(self, x):\n",
    "        x = self.base_model(x)\n",
    "        x = self.classifier(x)\n",
    "        return x"
   ]
  },
  {
   "cell_type": "markdown",
   "metadata": {},
   "source": [
    "###\n",
    "<span style=\"font-family: Times New Roman; font-size: 20px;\">\n",
    "<h3> \n",
    "VGG16-Model (Transfer Learning) (All the layers)\n",
    "</h3>"
   ]
  },
  {
   "cell_type": "code",
   "execution_count": 23,
   "metadata": {},
   "outputs": [],
   "source": [
    "from torchvision.models import vgg16\n",
    "\n",
    "class VGG16_tl_all(nn.Module):\n",
    "    def __init__(self):\n",
    "        super(VGG16_tl_all, self).__init__()\n",
    "        self.base_model = vgg16(pretrained=True)\n",
    "        self.classifier = nn.Sequential(\n",
    "            nn.Linear(1000, 128),\n",
    "            nn.ReLU(inplace=True),\n",
    "            nn.Linear(128, 16),\n",
    "            nn.ReLU(inplace=True),\n",
    "            nn.Linear(16, 1)\n",
    "        )\n",
    "\n",
    "    def forward(self, x):\n",
    "        x = self.base_model(x)\n",
    "        x = self.classifier(x)\n",
    "        return x"
   ]
  },
  {
   "cell_type": "markdown",
   "metadata": {},
   "source": [
    "##\n",
    "<span style=\"font-family: Times New Roman; font-size: 20px;\">\n",
    "<h2> \n",
    "Loading the Test Data Iterator\n",
    "</h2>"
   ]
  },
  {
   "cell_type": "code",
   "execution_count": 24,
   "metadata": {},
   "outputs": [],
   "source": [
    "logdir = \"logs/\""
   ]
  },
  {
   "cell_type": "code",
   "execution_count": 25,
   "metadata": {},
   "outputs": [],
   "source": [
    "transform = transforms.Compose([\n",
    "    transforms.Resize((256, 256)),\n",
    "    transforms.ToTensor()\n",
    "])\n",
    "tester = torchvision.datasets.ImageFolder(root='data/test', transform=transform)\n",
    "tester_it = torch.utils.data.DataLoader(tester, batch_size=1, shuffle=True)"
   ]
  },
  {
   "cell_type": "markdown",
   "metadata": {},
   "source": [
    "##\n",
    "<span style=\"font-family: Times New Roman; font-size: 20px;\">\n",
    "<h2> \n",
    "Function to Log Images to Tensorboard\n",
    "</h2>"
   ]
  },
  {
   "cell_type": "code",
   "execution_count": 26,
   "metadata": {},
   "outputs": [],
   "source": [
    "def plot_to_image(figure):\n",
    "    buf = io.BytesIO()\n",
    "    plt.savefig(buf, format='png')\n",
    "    plt.close(figure)\n",
    "    buf.seek(0)\n",
    " \n",
    "    image = tf.image.decode_png(buf.getvalue(), channels=4)\n",
    "    image = tf.expand_dims(image, 0)\n",
    "    return image"
   ]
  },
  {
   "cell_type": "code",
   "execution_count": 27,
   "metadata": {},
   "outputs": [],
   "source": [
    "def log_images(model, itr, writer, num_of_images, class_names=None, k=2):\n",
    "    if class_names is None:\n",
    "        class_names = [f\"Class {i}\" for i in range(k)]\n",
    "    k = len(class_names)\n",
    "    \n",
    "    pred_labels = []\n",
    "    true_labels = []\n",
    "    num = num_of_images // 5\n",
    "    \n",
    "    figure = plt.figure(figsize=(12,2*num))   \n",
    "    plt.suptitle(\"Predictions on Test Data\")\n",
    "    plt.margins(0.5)\n",
    "    for i, (image, label) in enumerate(itr):\n",
    "        true_labels.append(label.item())\n",
    "        prediction = model(image).detach().numpy()\n",
    "        pred_labels.append(int(prediction > 0))\n",
    "        plt.subplot(num, 5, i + 1, title=f\"{class_names[int(prediction > 0)]} ({'Right' if class_names[label.item()]==class_names[int(prediction > 0)] else 'Wrong'})\")\n",
    "        plt.xticks([])\n",
    "        plt.yticks([])\n",
    "        plt.grid(False) \n",
    "        plt.imshow((image.numpy()).transpose((0, 2, 3, 1)).squeeze(), cmap=plt.cm.binary)\n",
    "    plt.tight_layout()\n",
    "    with writer.as_default():\n",
    "        tf.summary.image(\"Predictions on Test Data\", plot_to_image(figure), step=0, description=\"Image\")\n",
    "    \n",
    "    cm = confusion_matrix(true_labels, pred_labels)\n",
    "    fig = plt.figure(figsize=(4, 4))\n",
    "    plt.imshow(cm, interpolation='nearest', cmap=plt.cm.Blues)\n",
    "    plt.title(\"Confusion Matrix\")\n",
    "    plt.colorbar()\n",
    "    for i in range(k):\n",
    "        for j in range(k):\n",
    "            plt.text(j, i, cm[i, j], horizontalalignment=\"center\", color=\"black\")\n",
    "    tick_marks = np.arange(len(class_names))\n",
    "    plt.xticks(tick_marks, class_names, rotation=45)\n",
    "    plt.yticks(tick_marks, class_names)\n",
    "    plt.tight_layout()\n",
    "    plt.ylabel('True label')\n",
    "    plt.xlabel('Predicted label')\n",
    "    with writer.as_default():\n",
    "        tf.summary.image(\"Confusion Matrix\", plot_to_image(fig), step=0, description=\"Confusion Matrix\")\n",
    "    return pred_labels, true_labels\n"
   ]
  },
  {
   "cell_type": "markdown",
   "metadata": {},
   "source": [
    "##\n",
    "<span style=\"font-family: Times New Roman; font-size: 20px;\">\n",
    "<h2> \n",
    "Loading the Model\n",
    "</h2>"
   ]
  },
  {
   "cell_type": "code",
   "execution_count": 28,
   "metadata": {},
   "outputs": [],
   "source": [
    "model_path = [\"model.pth\", \"model2.pth\", \"model3.pth\", \"model4.pth\", \"model5.pth\"]\n",
    "models = []\n",
    "model = VGG1Block().to(device)\n",
    "model.load_state_dict(torch.load(model_path[0], map_location=device))\n",
    "model.eval()\n",
    "models.append(model)\n",
    "for i in range(1, 3):\n",
    "    model = VGG3Block().to(device)\n",
    "    model.load_state_dict(torch.load(model_path[i], map_location=device))\n",
    "    model.eval()\n",
    "    models.append(model)\n",
    "model = VGG16_tl().to(device)\n",
    "model.load_state_dict(torch.load(model_path[3], map_location=device).state_dict())\n",
    "model.eval()\n",
    "models.append(model)\n",
    "model = VGG16_tl_all().to(device)\n",
    "model.load_state_dict(torch.load(model_path[4], map_location=device).state_dict())\n",
    "model.eval()\n",
    "models.append(model)"
   ]
  },
  {
   "cell_type": "code",
   "execution_count": 29,
   "metadata": {},
   "outputs": [
    {
     "data": {
      "text/plain": [
       "5"
      ]
     },
     "execution_count": 29,
     "metadata": {},
     "output_type": "execute_result"
    }
   ],
   "source": [
    "len(models)"
   ]
  },
  {
   "cell_type": "code",
   "execution_count": 30,
   "metadata": {},
   "outputs": [],
   "source": [
    "classes = [\"Cheetah\", \"Jaguar\"]"
   ]
  },
  {
   "cell_type": "code",
   "execution_count": 31,
   "metadata": {},
   "outputs": [
    {
     "name": "stdout",
     "output_type": "stream",
     "text": [
      "For Model1\n",
      "Accuracy: 95.0%\n",
      "For Model2\n",
      "Accuracy: 90.0%\n",
      "For Model3\n",
      "Accuracy: 90.0%\n",
      "For Model4\n",
      "Accuracy: 97.5%\n",
      "For Model5\n",
      "Accuracy: 100.0%\n"
     ]
    }
   ],
   "source": [
    "if os.path.exists(logdir):\n",
    "    shutil.rmtree(logdir)\n",
    "for i,model in enumerate(models):\n",
    "    logdir = f\"logs/model{i+1}/\"\n",
    "    writer = tf.summary.create_file_writer(logdir)\n",
    "    pred_labels, true_labels = log_images(model, iter(tester_it), writer, len(tester_it), classes)\n",
    "    print(f\"For Model{i+1}\")\n",
    "    print(f\"Accuracy: {accuracy_score(true_labels, pred_labels)*100}%\")\n",
    "    writer.close()"
   ]
  },
  {
   "cell_type": "code",
   "execution_count": 32,
   "metadata": {},
   "outputs": [
    {
     "name": "stderr",
     "output_type": "stream",
     "text": [
      "UsageError: Line magic function `%tensorboard` not found.\n"
     ]
    }
   ],
   "source": [
    "%tensorboard"
   ]
  },
  {
   "cell_type": "code",
   "execution_count": null,
   "metadata": {},
   "outputs": [],
   "source": []
  }
 ],
 "metadata": {
  "kernelspec": {
   "display_name": "Python 3",
   "language": "python",
   "name": "python3"
  },
  "language_info": {
   "codemirror_mode": {
    "name": "ipython",
    "version": 3
   },
   "file_extension": ".py",
   "mimetype": "text/x-python",
   "name": "python",
   "nbconvert_exporter": "python",
   "pygments_lexer": "ipython3",
   "version": "3.11.0"
  }
 },
 "nbformat": 4,
 "nbformat_minor": 2
}
